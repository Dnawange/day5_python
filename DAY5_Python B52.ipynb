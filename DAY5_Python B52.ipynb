{
 "cells": [
  {
   "cell_type": "code",
   "execution_count": 1,
   "id": "cdecdea7",
   "metadata": {},
   "outputs": [],
   "source": [
    "student=['kush','aarav','devesh','pravesh','hitesh']"
   ]
  },
  {
   "cell_type": "code",
   "execution_count": 2,
   "id": "885417f9",
   "metadata": {},
   "outputs": [
    {
     "data": {
      "text/plain": [
       "5"
      ]
     },
     "execution_count": 2,
     "metadata": {},
     "output_type": "execute_result"
    }
   ],
   "source": [
    "len(student)"
   ]
  },
  {
   "cell_type": "code",
   "execution_count": 4,
   "id": "94028d5c",
   "metadata": {},
   "outputs": [
    {
     "name": "stdout",
     "output_type": "stream",
     "text": [
      "['kush', 'aarav', 'devesh', 'pravesh', 'hitesh']\n"
     ]
    }
   ],
   "source": [
    "print(student)"
   ]
  },
  {
   "cell_type": "code",
   "execution_count": 5,
   "id": "dc5b3b84",
   "metadata": {},
   "outputs": [
    {
     "name": "stdout",
     "output_type": "stream",
     "text": [
      "['aarav', 'devesh', 'hitesh', 'kush', 'pravesh']\n"
     ]
    }
   ],
   "source": [
    "print(sorted(student))"
   ]
  },
  {
   "cell_type": "code",
   "execution_count": 6,
   "id": "06e43a53",
   "metadata": {},
   "outputs": [],
   "source": [
    "student.sort()"
   ]
  },
  {
   "cell_type": "code",
   "execution_count": 7,
   "id": "16863749",
   "metadata": {},
   "outputs": [
    {
     "name": "stdout",
     "output_type": "stream",
     "text": [
      "['aarav', 'devesh', 'hitesh', 'kush', 'pravesh']\n"
     ]
    }
   ],
   "source": [
    "print(student)"
   ]
  },
  {
   "cell_type": "code",
   "execution_count": 8,
   "id": "63d59897",
   "metadata": {},
   "outputs": [],
   "source": [
    "student.reverse()"
   ]
  },
  {
   "cell_type": "code",
   "execution_count": 9,
   "id": "02002a84",
   "metadata": {},
   "outputs": [
    {
     "name": "stdout",
     "output_type": "stream",
     "text": [
      "['pravesh', 'kush', 'hitesh', 'devesh', 'aarav']\n"
     ]
    }
   ],
   "source": [
    "print(student)"
   ]
  },
  {
   "cell_type": "code",
   "execution_count": 10,
   "id": "ec293833",
   "metadata": {},
   "outputs": [],
   "source": [
    "student.reverse()"
   ]
  },
  {
   "cell_type": "code",
   "execution_count": 11,
   "id": "7feaa288",
   "metadata": {},
   "outputs": [
    {
     "name": "stdout",
     "output_type": "stream",
     "text": [
      "['aarav', 'devesh', 'hitesh', 'kush', 'pravesh']\n"
     ]
    }
   ],
   "source": [
    "print(student)"
   ]
  },
  {
   "cell_type": "code",
   "execution_count": 13,
   "id": "1912f178",
   "metadata": {},
   "outputs": [
    {
     "data": {
      "text/plain": [
       "['aarav', 'devesh']"
      ]
     },
     "execution_count": 13,
     "metadata": {},
     "output_type": "execute_result"
    }
   ],
   "source": [
    "student[0:2]"
   ]
  },
  {
   "cell_type": "code",
   "execution_count": 14,
   "id": "5b3e42f0",
   "metadata": {},
   "outputs": [
    {
     "data": {
      "text/plain": [
       "['hitesh', 'kush']"
      ]
     },
     "execution_count": 14,
     "metadata": {},
     "output_type": "execute_result"
    }
   ],
   "source": [
    "student[2:4]"
   ]
  },
  {
   "cell_type": "code",
   "execution_count": 15,
   "id": "5d0b8981",
   "metadata": {},
   "outputs": [
    {
     "data": {
      "text/plain": [
       "['aarav', 'devesh', 'hitesh', 'kush', 'pravesh']"
      ]
     },
     "execution_count": 15,
     "metadata": {},
     "output_type": "execute_result"
    }
   ],
   "source": [
    "student[0:5:1]"
   ]
  },
  {
   "cell_type": "code",
   "execution_count": 16,
   "id": "ccbbf6b1",
   "metadata": {},
   "outputs": [
    {
     "data": {
      "text/plain": [
       "['aarav', 'hitesh', 'pravesh']"
      ]
     },
     "execution_count": 16,
     "metadata": {},
     "output_type": "execute_result"
    }
   ],
   "source": [
    "student[0:5:2]"
   ]
  },
  {
   "cell_type": "code",
   "execution_count": 17,
   "id": "ddd9fdb8",
   "metadata": {},
   "outputs": [
    {
     "data": {
      "text/plain": [
       "['aarav', 'kush']"
      ]
     },
     "execution_count": 17,
     "metadata": {},
     "output_type": "execute_result"
    }
   ],
   "source": [
    "student[0:5:3]"
   ]
  },
  {
   "cell_type": "code",
   "execution_count": 18,
   "id": "b9125f8f",
   "metadata": {},
   "outputs": [
    {
     "data": {
      "text/plain": [
       "['aarav', 'pravesh']"
      ]
     },
     "execution_count": 18,
     "metadata": {},
     "output_type": "execute_result"
    }
   ],
   "source": [
    "student[0:5:4]"
   ]
  },
  {
   "cell_type": "code",
   "execution_count": 19,
   "id": "83003d99",
   "metadata": {},
   "outputs": [
    {
     "data": {
      "text/plain": [
       "['aarav']"
      ]
     },
     "execution_count": 19,
     "metadata": {},
     "output_type": "execute_result"
    }
   ],
   "source": [
    "student[0:5:5]"
   ]
  },
  {
   "cell_type": "code",
   "execution_count": 20,
   "id": "5cfb529a",
   "metadata": {},
   "outputs": [
    {
     "data": {
      "text/plain": [
       "['aarav']"
      ]
     },
     "execution_count": 20,
     "metadata": {},
     "output_type": "execute_result"
    }
   ],
   "source": [
    "student[0:5:6]"
   ]
  },
  {
   "cell_type": "code",
   "execution_count": 21,
   "id": "359303bc",
   "metadata": {},
   "outputs": [
    {
     "data": {
      "text/plain": [
       "['aarav']"
      ]
     },
     "execution_count": 21,
     "metadata": {},
     "output_type": "execute_result"
    }
   ],
   "source": [
    "student[0:5:8]"
   ]
  },
  {
   "cell_type": "code",
   "execution_count": null,
   "id": "c3961575",
   "metadata": {},
   "outputs": [],
   "source": []
  }
 ],
 "metadata": {
  "kernelspec": {
   "display_name": "Python 3",
   "language": "python",
   "name": "python3"
  },
  "language_info": {
   "codemirror_mode": {
    "name": "ipython",
    "version": 3
   },
   "file_extension": ".py",
   "mimetype": "text/x-python",
   "name": "python",
   "nbconvert_exporter": "python",
   "pygments_lexer": "ipython3",
   "version": "3.8.8"
  }
 },
 "nbformat": 4,
 "nbformat_minor": 5
}
